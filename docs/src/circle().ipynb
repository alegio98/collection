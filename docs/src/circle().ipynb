{
 "cells": [
  {
   "cell_type": "code",
   "execution_count": 8,
   "metadata": {},
   "outputs": [
    {
     "data": {
      "text/plain": [
       "LinearAlgebraicRepresentation"
      ]
     },
     "execution_count": 8,
     "metadata": {},
     "output_type": "execute_result"
    }
   ],
   "source": [
    "using BenchmarkTools\n",
    "using LinearAlgebraicRepresentation\n",
    "Lar = LinearAlgebraicRepresentation"
   ]
  },
  {
   "cell_type": "code",
   "execution_count": 9,
   "metadata": {},
   "outputs": [
    {
     "data": {
      "text/plain": [
       "circle (generic function with 3 methods)"
      ]
     },
     "execution_count": 9,
     "metadata": {},
     "output_type": "execute_result"
    }
   ],
   "source": [
    "function circle(radius=1., angle=2*pi)\n",
    "    function circle0(shape=[36])\n",
    "        V, EV = cuboidGrid(shape)\n",
    "        V = (angle/shape[1])*V\n",
    "        V = hcat(map(u->[radius*cos(u); radius*sin(u)], V)...)\n",
    "        W, EW = simplifyCells(V, EV)\n",
    "        return W, EW\n",
    "    end\n",
    "    return circle0\n",
    "end"
   ]
  },
  {
   "cell_type": "code",
   "execution_count": 10,
   "metadata": {},
   "outputs": [
    {
     "name": "stdout",
     "output_type": "stream",
     "text": [
      "  118.931 μs (1838 allocations: 139.64 KiB)\n"
     ]
    },
    {
     "data": {
      "text/plain": [
       "([1.0 0.98481 … 0.93969 0.98481; 0.0 0.17365 … -0.34202 -0.17365], [[2, 1], [2, 3], [4, 3], [4, 5], [5, 6], [7, 6], [7, 8], [9, 8], [9, 10], [10, 11]  …  [27, 28], [29, 28], [29, 30], [31, 30], [31, 32], [32, 33], [34, 33], [35, 34], [35, 36], [36, 1]])"
      ]
     },
     "execution_count": 10,
     "metadata": {},
     "output_type": "execute_result"
    }
   ],
   "source": [
    " @btime D,Z= Lar.circle()()"
   ]
  },
  {
   "cell_type": "code",
   "execution_count": 13,
   "metadata": {},
   "outputs": [
    {
     "name": "stdout",
     "output_type": "stream",
     "text": [
      "\n",
      ";  @ In[9]:2 within `circle0'\n",
      "define nonnull %jl_value_t* @julia_circle0_2046([2 x double]* nocapture nonnull readonly dereferenceable(16)) {\n",
      "top:\n",
      "  %gcframe = alloca %jl_value_t*, i32 3, align 16\n",
      "  %1 = bitcast %jl_value_t** %gcframe to i8*\n",
      "  call void @llvm.memset.p0i8.i32(i8* align 16 %1, i8 0, i32 24, i1 false)\n",
      "  %thread_ptr = call i8* asm \"movq %fs:0, $0\", \"=r\"()\n",
      "  %ptls_i8 = getelementptr i8, i8* %thread_ptr, i64 -15720\n",
      "  %ptls = bitcast i8* %ptls_i8 to %jl_value_t***\n",
      ";  @ In[9]:3 within `circle0'\n",
      "; ┌ @ array.jl:130 within `vect'\n",
      "; │┌ @ array.jl:678 within `_array_for'\n",
      "; ││┌ @ abstractarray.jl:674 within `similar' @ abstractarray.jl:675\n",
      "; │││┌ @ boot.jl:415 within `Array' @ boot.jl:406\n",
      "      %2 = getelementptr %jl_value_t*, %jl_value_t** %gcframe, i32 0\n",
      "      %3 = bitcast %jl_value_t** %2 to i64*\n",
      "      store i64 4, i64* %3\n",
      "      %4 = getelementptr %jl_value_t**, %jl_value_t*** %ptls, i32 0\n",
      "      %5 = getelementptr %jl_value_t*, %jl_value_t** %gcframe, i32 1\n",
      "      %6 = bitcast %jl_value_t** %5 to %jl_value_t***\n",
      "      %7 = load %jl_value_t**, %jl_value_t*** %4\n",
      "      store %jl_value_t** %7, %jl_value_t*** %6\n",
      "      %8 = bitcast %jl_value_t*** %4 to %jl_value_t***\n",
      "      store %jl_value_t** %gcframe, %jl_value_t*** %8\n",
      "      %9 = call %jl_value_t* inttoptr (i64 140429484156448 to %jl_value_t* (%jl_value_t*, i64)*)(%jl_value_t* inttoptr (i64 140429256910288 to %jl_value_t*), i64 1)\n",
      "; │└└└\n",
      "; │┌ @ array.jl:847 within `setindex!'\n",
      "    %10 = bitcast %jl_value_t* %9 to i64**\n",
      "    %11 = load i64*, i64** %10, align 8\n",
      "    store i64 36, i64* %11, align 8\n",
      "    %12 = getelementptr %jl_value_t*, %jl_value_t** %gcframe, i32 2\n",
      "    store %jl_value_t* %9, %jl_value_t** %12\n",
      "; └└\n",
      "  %13 = call nonnull %jl_value_t* @j_circle0_2047([2 x double]* nocapture nonnull readonly %0, %jl_value_t* %9)\n",
      "  %14 = getelementptr %jl_value_t*, %jl_value_t** %gcframe, i32 1\n",
      "  %15 = load %jl_value_t*, %jl_value_t** %14\n",
      "  %16 = getelementptr %jl_value_t**, %jl_value_t*** %ptls, i32 0\n",
      "  %17 = bitcast %jl_value_t*** %16 to %jl_value_t**\n",
      "  store %jl_value_t* %15, %jl_value_t** %17\n",
      "  ret %jl_value_t* %13\n",
      "}\n"
     ]
    }
   ],
   "source": [
    "@code_llvm circle()()"
   ]
  },
  {
   "cell_type": "code",
   "execution_count": 14,
   "metadata": {},
   "outputs": [
    {
     "name": "stdout",
     "output_type": "stream",
     "text": [
      "Variables\n",
      "  #self#\u001b[36m::var\"#circle0#6\"{Float64,Float64}\u001b[39m\n",
      "\n",
      "Body\u001b[91m\u001b[1m::Tuple{Any,Any}\u001b[22m\u001b[39m\n",
      "\u001b[90m1 ─\u001b[39m %1 = Base.vect(36)\u001b[36m::Array{Int64,1}\u001b[39m\n",
      "\u001b[90m│  \u001b[39m %2 = (#self#)(%1)\u001b[91m\u001b[1m::Tuple{Any,Any}\u001b[22m\u001b[39m\n",
      "\u001b[90m└──\u001b[39m      return %2\n"
     ]
    }
   ],
   "source": [
    "@code_warntype circle()()"
   ]
  },
  {
   "cell_type": "code",
   "execution_count": 16,
   "metadata": {},
   "outputs": [
    {
     "data": {
      "text/plain": [
       "CodeInfo(\n",
       "\u001b[90m1 ─\u001b[39m %1 = $(Expr(:foreigncall, :(:jl_alloc_array_1d), Array{Int64,1}, svec(Any, Int64), 0, :(:ccall), Array{Int64,1}, 1, 1))\u001b[36m::Array{Int64,1}\u001b[39m\n",
       "\u001b[90m│  \u001b[39m      Base.arraysize(%1, 1)\u001b[90m::Int64\u001b[39m\n",
       "\u001b[90m└──\u001b[39m      goto #3 if not true\n",
       "\u001b[90m2 ─\u001b[39m      Base.arrayset(false, %1, 36, 1)\u001b[90m::Array{Int64,1}\u001b[39m\n",
       "\u001b[90m3 ┄\u001b[39m      goto #4\n",
       "\u001b[90m4 ─\u001b[39m %6 = invoke #self#(%1::Array{Int64,1})\u001b[36m::Tuple{Any,Any}\u001b[39m\n",
       "\u001b[90m└──\u001b[39m      return %6\n",
       ") => Tuple{Any,Any}"
      ]
     },
     "execution_count": 16,
     "metadata": {},
     "output_type": "execute_result"
    }
   ],
   "source": [
    "@code_typed circle()()"
   ]
  },
  {
   "cell_type": "code",
   "execution_count": null,
   "metadata": {},
   "outputs": [],
   "source": []
  }
 ],
 "metadata": {
  "kernelspec": {
   "display_name": "Julia 1.5.2",
   "language": "julia",
   "name": "julia-1.5"
  },
  "language_info": {
   "file_extension": ".jl",
   "mimetype": "application/julia",
   "name": "julia",
   "version": "1.5.2"
  }
 },
 "nbformat": 4,
 "nbformat_minor": 4
}
