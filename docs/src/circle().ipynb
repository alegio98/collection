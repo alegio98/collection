{
 "cells": [
  {
   "cell_type": "code",
   "execution_count": 1,
   "metadata": {},
   "outputs": [
    {
     "data": {
      "text/plain": [
       "LinearAlgebraicRepresentation"
      ]
     },
     "execution_count": 1,
     "metadata": {},
     "output_type": "execute_result"
    }
   ],
   "source": [
    "using BenchmarkTools\n",
    "using LinearAlgebraicRepresentation\n",
    "Lar = LinearAlgebraicRepresentation"
   ]
  },
  {
   "cell_type": "markdown",
   "metadata": {},
   "source": [
    "# versione INIZIALE di circle()"
   ]
  },
  {
   "cell_type": "code",
   "execution_count": 2,
   "metadata": {},
   "outputs": [
    {
     "data": {
      "text/plain": [
       "circle (generic function with 3 methods)"
      ]
     },
     "execution_count": 2,
     "metadata": {},
     "output_type": "execute_result"
    }
   ],
   "source": [
    "function circle(radius=1., angle=2*pi)\n",
    "    function circle0(shape=[36])     \n",
    "        V, EV = cuboidGrid(shape)\n",
    "        V = (angle/shape[1])*V\n",
    "        V = hcat(map(u->[radius*cos(u); radius*sin(u)], V)...)\n",
    "        W, EW = simplifyCells(V, EV)\n",
    "        return W, EW\n",
    "    end\n",
    "    return circle0\n",
    "end"
   ]
  },
  {
   "cell_type": "code",
   "execution_count": 3,
   "metadata": {},
   "outputs": [
    {
     "name": "stdout",
     "output_type": "stream",
     "text": [
      "  140.685 μs (1838 allocations: 139.64 KiB)\n"
     ]
    },
    {
     "data": {
      "text/plain": [
       "([1.0 0.98481 … 0.93969 0.98481; 0.0 0.17365 … -0.34202 -0.17365], [[2, 1], [2, 3], [4, 3], [4, 5], [5, 6], [7, 6], [7, 8], [9, 8], [9, 10], [10, 11]  …  [27, 28], [29, 28], [29, 30], [31, 30], [31, 32], [32, 33], [34, 33], [35, 34], [35, 36], [36, 1]])"
      ]
     },
     "execution_count": 3,
     "metadata": {},
     "output_type": "execute_result"
    }
   ],
   "source": [
    " @btime D,Z= Lar.circle()()"
   ]
  },
  {
   "cell_type": "code",
   "execution_count": 5,
   "metadata": {},
   "outputs": [
    {
     "data": {
      "text/plain": [
       "BenchmarkTools.Trial: \n",
       "  memory estimate:  139.58 KiB\n",
       "  allocs estimate:  1836\n",
       "  --------------\n",
       "  minimum time:     141.559 μs (0.00% GC)\n",
       "  median time:      145.319 μs (0.00% GC)\n",
       "  mean time:        160.438 μs (7.89% GC)\n",
       "  maximum time:     4.798 ms (96.03% GC)\n",
       "  --------------\n",
       "  samples:          10000\n",
       "  evals/sample:     1"
      ]
     },
     "execution_count": 5,
     "metadata": {},
     "output_type": "execute_result"
    }
   ],
   "source": [
    "@benchmark Lar.circle()()"
   ]
  },
  {
   "cell_type": "code",
   "execution_count": 4,
   "metadata": {},
   "outputs": [
    {
     "name": "stdout",
     "output_type": "stream",
     "text": [
      "Variables\n",
      "  #self#\u001b[36m::var\"#circle0#2\"{Float64,Float64}\u001b[39m\n",
      "\n",
      "Body\u001b[91m\u001b[1m::Tuple{Any,Any}\u001b[22m\u001b[39m\n",
      "\u001b[90m1 ─\u001b[39m %1 = Base.vect(36)\u001b[36m::Array{Int64,1}\u001b[39m\n",
      "\u001b[90m│  \u001b[39m %2 = (#self#)(%1)\u001b[91m\u001b[1m::Tuple{Any,Any}\u001b[22m\u001b[39m\n",
      "\u001b[90m└──\u001b[39m      return %2\n"
     ]
    }
   ],
   "source": [
    "@code_warntype circle()()"
   ]
  },
  {
   "cell_type": "markdown",
   "metadata": {},
   "source": [
    "# versione MODIFICATA di circle()"
   ]
  },
  {
   "cell_type": "code",
   "execution_count": 7,
   "metadata": {},
   "outputs": [
    {
     "data": {
      "text/plain": [
       "circle (generic function with 3 methods)"
      ]
     },
     "execution_count": 7,
     "metadata": {},
     "output_type": "execute_result"
    }
   ],
   "source": [
    "function circle(radius=1., angle=2*pi)\n",
    "    function circle0(shape=[36]) \n",
    "        V = [zero(eltype{Int64,1})]  \n",
    "        EV = [zero(eltype{Int64,1})] \n",
    "        V, EV = cuboidGrid(shape)\n",
    "        V = (angle/shape[1])*V\n",
    "        V = hcat(map(u->[radius*cos(u); radius*sin(u)], V)...)\n",
    "        W, EW = simplifyCells(V, EV)\n",
    "        return W, EW\n",
    "    end\n",
    "    return circle0\n",
    "end "
   ]
  },
  {
   "cell_type": "code",
   "execution_count": 8,
   "metadata": {},
   "outputs": [
    {
     "name": "stdout",
     "output_type": "stream",
     "text": [
      "  140.601 μs (1838 allocations: 139.64 KiB)\n"
     ]
    },
    {
     "data": {
      "text/plain": [
       "([1.0 0.98481 … 0.93969 0.98481; 0.0 0.17365 … -0.34202 -0.17365], [[2, 1], [2, 3], [4, 3], [4, 5], [5, 6], [7, 6], [7, 8], [9, 8], [9, 10], [10, 11]  …  [27, 28], [29, 28], [29, 30], [31, 30], [31, 32], [32, 33], [34, 33], [35, 34], [35, 36], [36, 1]])"
      ]
     },
     "execution_count": 8,
     "metadata": {},
     "output_type": "execute_result"
    }
   ],
   "source": [
    " @btime D,Z= Lar.circle()()"
   ]
  },
  {
   "cell_type": "code",
   "execution_count": 9,
   "metadata": {},
   "outputs": [
    {
     "data": {
      "text/plain": [
       "BenchmarkTools.Trial: \n",
       "  memory estimate:  139.58 KiB\n",
       "  allocs estimate:  1836\n",
       "  --------------\n",
       "  minimum time:     136.841 μs (0.00% GC)\n",
       "  median time:      145.526 μs (0.00% GC)\n",
       "  mean time:        162.181 μs (7.99% GC)\n",
       "  maximum time:     4.815 ms (95.86% GC)\n",
       "  --------------\n",
       "  samples:          10000\n",
       "  evals/sample:     1"
      ]
     },
     "execution_count": 9,
     "metadata": {},
     "output_type": "execute_result"
    }
   ],
   "source": [
    "@benchmark Lar.circle()()"
   ]
  },
  {
   "cell_type": "code",
   "execution_count": 8,
   "metadata": {},
   "outputs": [
    {
     "name": "stdout",
     "output_type": "stream",
     "text": [
      "Variables\n",
      "  #self#\u001b[36m::var\"#circle0#7\"{Float64,Float64}\u001b[39m\n",
      "\n",
      "Body\u001b[36m::Union{}\u001b[39m\n",
      "\u001b[90m1 ─\u001b[39m %1 = Base.vect(36)\u001b[36m::Array{Int64,1}\u001b[39m\n",
      "\u001b[90m│  \u001b[39m      (#self#)(%1)\n",
      "\u001b[90m└──\u001b[39m      Core.Compiler.Const(:(return %2), false)\n"
     ]
    }
   ],
   "source": [
    "@code_warntype circle()()"
   ]
  },
  {
   "cell_type": "markdown",
   "metadata": {},
   "source": [
    "La *nuova versione* non migliora i tempi di esecuzione della funzione iniziale ma rende la variabile V tipizzata . Quindi la rende più stabile ."
   ]
  }
 ],
 "metadata": {
  "kernelspec": {
   "display_name": "Julia 1.5.2",
   "language": "julia",
   "name": "julia-1.5"
  },
  "language_info": {
   "file_extension": ".jl",
   "mimetype": "application/julia",
   "name": "julia",
   "version": "1.5.2"
  }
 },
 "nbformat": 4,
 "nbformat_minor": 4
}
