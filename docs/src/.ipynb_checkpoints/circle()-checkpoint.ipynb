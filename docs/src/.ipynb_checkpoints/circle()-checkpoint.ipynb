{
 "cells": [
  {
   "cell_type": "code",
   "execution_count": 12,
   "metadata": {},
   "outputs": [
    {
     "data": {
      "text/plain": [
       "circleMia (generic function with 3 methods)"
      ]
     },
     "execution_count": 12,
     "metadata": {},
     "output_type": "execute_result"
    }
   ],
   "source": [
    "using BenchmarkTools\n",
    "using DataStructures\n",
    "using LinearAlgebraicRepresentation\n",
    "Lar = LinearAlgebraicRepresentation\n",
    "using ViewerGL\n",
    "GL = ViewerGL\n",
    "\n",
    "function circleMia(radius=1., angle=2*pi)\n",
    "    function circle0(shape=[36])\n",
    "        V, EV = cuboidGrid(shape)\n",
    "        V = (angle/shape[1])*V\n",
    "        V = forCircle(radius) \n",
    "        W, EW = simplifyCells(V, EV)\n",
    "        return W, EW\n",
    "    end\n",
    "    return circle0\n",
    "end\n"
   ]
  },
  {
   "cell_type": "code",
   "execution_count": 13,
   "metadata": {},
   "outputs": [
    {
     "data": {
      "text/plain": [
       "forCircle (generic function with 1 method)"
      ]
     },
     "execution_count": 13,
     "metadata": {},
     "output_type": "execute_result"
    }
   ],
   "source": [
    "using BenchmarkTools\n",
    "using DataStructures\n",
    "using LinearAlgebraicRepresentation\n",
    "Lar = LinearAlgebraicRepresentation\n",
    "using ViewerGL\n",
    "GL = ViewerGL\n",
    "\n",
    "function forCircle(radius)\n",
    "V = hcat(map(u->[radius*cos(u); radius*sin(u)], V)...)\n",
    "end"
   ]
  },
  {
   "cell_type": "code",
   "execution_count": 15,
   "metadata": {},
   "outputs": [
    {
     "ename": "LoadError",
     "evalue": "UndefVarError: V not defined",
     "output_type": "error",
     "traceback": [
      "UndefVarError: V not defined",
      "",
      "Stacktrace:",
      " [1] (::var\"#circle0#9\"{Float64,Float64})(::Array{Int64,1}) at ./In[12]:11 (repeats 2 times)",
      " [2] ##core#275() at /home/alessandro/.julia/packages/BenchmarkTools/eCEpo/src/execution.jl:371",
      " [3] ##sample#276(::BenchmarkTools.Parameters) at /home/alessandro/.julia/packages/BenchmarkTools/eCEpo/src/execution.jl:377",
      " [4] _run(::BenchmarkTools.Benchmark{Symbol(\"##benchmark#274\")}, ::BenchmarkTools.Parameters; verbose::Bool, pad::String, kwargs::Base.Iterators.Pairs{Symbol,Integer,NTuple{4,Symbol},NamedTuple{(:samples, :evals, :gctrial, :gcsample),Tuple{Int64,Int64,Bool,Bool}}}) at /home/alessandro/.julia/packages/BenchmarkTools/eCEpo/src/execution.jl:405",
      " [5] (::Base.var\"#inner#2\"{Base.Iterators.Pairs{Symbol,Integer,NTuple{5,Symbol},NamedTuple{(:verbose, :samples, :evals, :gctrial, :gcsample),Tuple{Bool,Int64,Int64,Bool,Bool}}},typeof(BenchmarkTools._run),Tuple{BenchmarkTools.Benchmark{Symbol(\"##benchmark#274\")},BenchmarkTools.Parameters}})() at ./essentials.jl:713",
      " [6] #invokelatest#1 at ./essentials.jl:714 [inlined]",
      " [7] #run_result#37 at /home/alessandro/.julia/packages/BenchmarkTools/eCEpo/src/execution.jl:32 [inlined]",
      " [8] run(::BenchmarkTools.Benchmark{Symbol(\"##benchmark#274\")}, ::BenchmarkTools.Parameters; progressid::Nothing, nleaves::Float64, ndone::Float64, kwargs::Base.Iterators.Pairs{Symbol,Integer,NTuple{5,Symbol},NamedTuple{(:verbose, :samples, :evals, :gctrial, :gcsample),Tuple{Bool,Int64,Int64,Bool,Bool}}}) at /home/alessandro/.julia/packages/BenchmarkTools/eCEpo/src/execution.jl:94",
      " [9] #warmup#45 at /home/alessandro/.julia/packages/BenchmarkTools/eCEpo/src/execution.jl:141 [inlined]",
      " [10] warmup(::BenchmarkTools.Benchmark{Symbol(\"##benchmark#274\")}) at /home/alessandro/.julia/packages/BenchmarkTools/eCEpo/src/execution.jl:141",
      " [11] top-level scope at /home/alessandro/.julia/packages/BenchmarkTools/eCEpo/src/execution.jl:481",
      " [12] include_string(::Function, ::Module, ::String, ::String) at ./loading.jl:1091"
     ]
    }
   ],
   "source": [
    " @btime D,Z= circleMia()()"
   ]
  },
  {
   "cell_type": "code",
   "execution_count": null,
   "metadata": {},
   "outputs": [],
   "source": []
  }
 ],
 "metadata": {
  "kernelspec": {
   "display_name": "Julia 1.5.2",
   "language": "julia",
   "name": "julia-1.5"
  },
  "language_info": {
   "file_extension": ".jl",
   "mimetype": "application/julia",
   "name": "julia",
   "version": "1.5.2"
  }
 },
 "nbformat": 4,
 "nbformat_minor": 4
}
